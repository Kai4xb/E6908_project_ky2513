{
  "nbformat": 4,
  "nbformat_minor": 0,
  "metadata": {
    "colab": {
      "provenance": []
    },
    "kernelspec": {
      "name": "python3",
      "display_name": "Python 3"
    },
    "language_info": {
      "name": "python"
    },
    "accelerator": "GPU",
    "gpuClass": "standard"
  },
  "cells": [
    {
      "cell_type": "markdown",
      "source": [
        "## Setup Python Environment "
      ],
      "metadata": {
        "id": "pGJKYLLjon-9"
      }
    },
    {
      "cell_type": "code",
      "execution_count": 2,
      "metadata": {
        "id": "9MzIeWFkn58x"
      },
      "outputs": [],
      "source": [
        "%%capture\n",
        "# Setup environment\n",
        "# !apt-get -qq install xxd\n",
        "!sudo apt-get update -y\n",
        "!sudo apt-get install -y xxd\n",
        "!pip install pandas numpy matplotlib\n",
        "%tensorflow_version 2.x\n",
        "!pip install tensorflow"
      ]
    },
    {
      "cell_type": "code",
      "source": [
        " ! python --version \n",
        " print(f\"TensorFlow version = {tf.__version__}\\n\")"
      ],
      "metadata": {
        "colab": {
          "base_uri": "https://localhost:8080/"
        },
        "id": "1jvTKPa7qj0h",
        "outputId": "c2dfcf25-496f-4e45-9f42-e92a2e4e66b2"
      },
      "execution_count": 5,
      "outputs": [
        {
          "output_type": "stream",
          "name": "stdout",
          "text": [
            "Python 3.9.16\n",
            "TensorFlow version = 2.12.0\n",
            "\n"
          ]
        }
      ]
    },
    {
      "cell_type": "code",
      "source": [
        "import numpy as np\n",
        "import pandas as pd\n",
        "import tensorflow as tf\n",
        "from tensorflow.keras.models import Sequential\n",
        "from tensorflow.keras.layers import LSTM, Dense, Dropout\n",
        "from tensorflow.keras.optimizers import Adam\n",
        "from sklearn.model_selection import train_test_split"
      ],
      "metadata": {
        "id": "fp5CuZC61uy4"
      },
      "execution_count": 4,
      "outputs": []
    },
    {
      "cell_type": "code",
      "source": [
        "from google.colab import files\n",
        "uploaded = files.upload()\n",
        "correct_shots = pd.read_csv(\"test1.csv\", names=['ax', 'ay', 'az', 'gx', 'gy', 'gz'])\n",
        "uploaded = files.upload()\n",
        "incorrect_shots = pd.read_csv(\"test2.csv\", names=['ax', 'ay', 'az', 'gx', 'gy', 'gz'])\n",
        "print(\"correct shape:\", correct_shots.shape)\n",
        "print(\"incorrect shape:\", incorrect_shots.shape)"
      ],
      "metadata": {
        "colab": {
          "base_uri": "https://localhost:8080/",
          "height": 166
        },
        "id": "Rj4sIQ4HrPYu",
        "outputId": "c0a35a61-73b5-44d6-f5a3-85db7ad00e55"
      },
      "execution_count": 6,
      "outputs": [
        {
          "output_type": "display_data",
          "data": {
            "text/plain": [
              "<IPython.core.display.HTML object>"
            ],
            "text/html": [
              "\n",
              "     <input type=\"file\" id=\"files-30380f60-3899-45dc-accc-f934f69ee300\" name=\"files[]\" multiple disabled\n",
              "        style=\"border:none\" />\n",
              "     <output id=\"result-30380f60-3899-45dc-accc-f934f69ee300\">\n",
              "      Upload widget is only available when the cell has been executed in the\n",
              "      current browser session. Please rerun this cell to enable.\n",
              "      </output>\n",
              "      <script>// Copyright 2017 Google LLC\n",
              "//\n",
              "// Licensed under the Apache License, Version 2.0 (the \"License\");\n",
              "// you may not use this file except in compliance with the License.\n",
              "// You may obtain a copy of the License at\n",
              "//\n",
              "//      http://www.apache.org/licenses/LICENSE-2.0\n",
              "//\n",
              "// Unless required by applicable law or agreed to in writing, software\n",
              "// distributed under the License is distributed on an \"AS IS\" BASIS,\n",
              "// WITHOUT WARRANTIES OR CONDITIONS OF ANY KIND, either express or implied.\n",
              "// See the License for the specific language governing permissions and\n",
              "// limitations under the License.\n",
              "\n",
              "/**\n",
              " * @fileoverview Helpers for google.colab Python module.\n",
              " */\n",
              "(function(scope) {\n",
              "function span(text, styleAttributes = {}) {\n",
              "  const element = document.createElement('span');\n",
              "  element.textContent = text;\n",
              "  for (const key of Object.keys(styleAttributes)) {\n",
              "    element.style[key] = styleAttributes[key];\n",
              "  }\n",
              "  return element;\n",
              "}\n",
              "\n",
              "// Max number of bytes which will be uploaded at a time.\n",
              "const MAX_PAYLOAD_SIZE = 100 * 1024;\n",
              "\n",
              "function _uploadFiles(inputId, outputId) {\n",
              "  const steps = uploadFilesStep(inputId, outputId);\n",
              "  const outputElement = document.getElementById(outputId);\n",
              "  // Cache steps on the outputElement to make it available for the next call\n",
              "  // to uploadFilesContinue from Python.\n",
              "  outputElement.steps = steps;\n",
              "\n",
              "  return _uploadFilesContinue(outputId);\n",
              "}\n",
              "\n",
              "// This is roughly an async generator (not supported in the browser yet),\n",
              "// where there are multiple asynchronous steps and the Python side is going\n",
              "// to poll for completion of each step.\n",
              "// This uses a Promise to block the python side on completion of each step,\n",
              "// then passes the result of the previous step as the input to the next step.\n",
              "function _uploadFilesContinue(outputId) {\n",
              "  const outputElement = document.getElementById(outputId);\n",
              "  const steps = outputElement.steps;\n",
              "\n",
              "  const next = steps.next(outputElement.lastPromiseValue);\n",
              "  return Promise.resolve(next.value.promise).then((value) => {\n",
              "    // Cache the last promise value to make it available to the next\n",
              "    // step of the generator.\n",
              "    outputElement.lastPromiseValue = value;\n",
              "    return next.value.response;\n",
              "  });\n",
              "}\n",
              "\n",
              "/**\n",
              " * Generator function which is called between each async step of the upload\n",
              " * process.\n",
              " * @param {string} inputId Element ID of the input file picker element.\n",
              " * @param {string} outputId Element ID of the output display.\n",
              " * @return {!Iterable<!Object>} Iterable of next steps.\n",
              " */\n",
              "function* uploadFilesStep(inputId, outputId) {\n",
              "  const inputElement = document.getElementById(inputId);\n",
              "  inputElement.disabled = false;\n",
              "\n",
              "  const outputElement = document.getElementById(outputId);\n",
              "  outputElement.innerHTML = '';\n",
              "\n",
              "  const pickedPromise = new Promise((resolve) => {\n",
              "    inputElement.addEventListener('change', (e) => {\n",
              "      resolve(e.target.files);\n",
              "    });\n",
              "  });\n",
              "\n",
              "  const cancel = document.createElement('button');\n",
              "  inputElement.parentElement.appendChild(cancel);\n",
              "  cancel.textContent = 'Cancel upload';\n",
              "  const cancelPromise = new Promise((resolve) => {\n",
              "    cancel.onclick = () => {\n",
              "      resolve(null);\n",
              "    };\n",
              "  });\n",
              "\n",
              "  // Wait for the user to pick the files.\n",
              "  const files = yield {\n",
              "    promise: Promise.race([pickedPromise, cancelPromise]),\n",
              "    response: {\n",
              "      action: 'starting',\n",
              "    }\n",
              "  };\n",
              "\n",
              "  cancel.remove();\n",
              "\n",
              "  // Disable the input element since further picks are not allowed.\n",
              "  inputElement.disabled = true;\n",
              "\n",
              "  if (!files) {\n",
              "    return {\n",
              "      response: {\n",
              "        action: 'complete',\n",
              "      }\n",
              "    };\n",
              "  }\n",
              "\n",
              "  for (const file of files) {\n",
              "    const li = document.createElement('li');\n",
              "    li.append(span(file.name, {fontWeight: 'bold'}));\n",
              "    li.append(span(\n",
              "        `(${file.type || 'n/a'}) - ${file.size} bytes, ` +\n",
              "        `last modified: ${\n",
              "            file.lastModifiedDate ? file.lastModifiedDate.toLocaleDateString() :\n",
              "                                    'n/a'} - `));\n",
              "    const percent = span('0% done');\n",
              "    li.appendChild(percent);\n",
              "\n",
              "    outputElement.appendChild(li);\n",
              "\n",
              "    const fileDataPromise = new Promise((resolve) => {\n",
              "      const reader = new FileReader();\n",
              "      reader.onload = (e) => {\n",
              "        resolve(e.target.result);\n",
              "      };\n",
              "      reader.readAsArrayBuffer(file);\n",
              "    });\n",
              "    // Wait for the data to be ready.\n",
              "    let fileData = yield {\n",
              "      promise: fileDataPromise,\n",
              "      response: {\n",
              "        action: 'continue',\n",
              "      }\n",
              "    };\n",
              "\n",
              "    // Use a chunked sending to avoid message size limits. See b/62115660.\n",
              "    let position = 0;\n",
              "    do {\n",
              "      const length = Math.min(fileData.byteLength - position, MAX_PAYLOAD_SIZE);\n",
              "      const chunk = new Uint8Array(fileData, position, length);\n",
              "      position += length;\n",
              "\n",
              "      const base64 = btoa(String.fromCharCode.apply(null, chunk));\n",
              "      yield {\n",
              "        response: {\n",
              "          action: 'append',\n",
              "          file: file.name,\n",
              "          data: base64,\n",
              "        },\n",
              "      };\n",
              "\n",
              "      let percentDone = fileData.byteLength === 0 ?\n",
              "          100 :\n",
              "          Math.round((position / fileData.byteLength) * 100);\n",
              "      percent.textContent = `${percentDone}% done`;\n",
              "\n",
              "    } while (position < fileData.byteLength);\n",
              "  }\n",
              "\n",
              "  // All done.\n",
              "  yield {\n",
              "    response: {\n",
              "      action: 'complete',\n",
              "    }\n",
              "  };\n",
              "}\n",
              "\n",
              "scope.google = scope.google || {};\n",
              "scope.google.colab = scope.google.colab || {};\n",
              "scope.google.colab._files = {\n",
              "  _uploadFiles,\n",
              "  _uploadFilesContinue,\n",
              "};\n",
              "})(self);\n",
              "</script> "
            ]
          },
          "metadata": {}
        },
        {
          "output_type": "stream",
          "name": "stdout",
          "text": [
            "Saving test1.csv to test1.csv\n"
          ]
        },
        {
          "output_type": "display_data",
          "data": {
            "text/plain": [
              "<IPython.core.display.HTML object>"
            ],
            "text/html": [
              "\n",
              "     <input type=\"file\" id=\"files-15f79d0e-74df-4b41-a87a-79de84c884d6\" name=\"files[]\" multiple disabled\n",
              "        style=\"border:none\" />\n",
              "     <output id=\"result-15f79d0e-74df-4b41-a87a-79de84c884d6\">\n",
              "      Upload widget is only available when the cell has been executed in the\n",
              "      current browser session. Please rerun this cell to enable.\n",
              "      </output>\n",
              "      <script>// Copyright 2017 Google LLC\n",
              "//\n",
              "// Licensed under the Apache License, Version 2.0 (the \"License\");\n",
              "// you may not use this file except in compliance with the License.\n",
              "// You may obtain a copy of the License at\n",
              "//\n",
              "//      http://www.apache.org/licenses/LICENSE-2.0\n",
              "//\n",
              "// Unless required by applicable law or agreed to in writing, software\n",
              "// distributed under the License is distributed on an \"AS IS\" BASIS,\n",
              "// WITHOUT WARRANTIES OR CONDITIONS OF ANY KIND, either express or implied.\n",
              "// See the License for the specific language governing permissions and\n",
              "// limitations under the License.\n",
              "\n",
              "/**\n",
              " * @fileoverview Helpers for google.colab Python module.\n",
              " */\n",
              "(function(scope) {\n",
              "function span(text, styleAttributes = {}) {\n",
              "  const element = document.createElement('span');\n",
              "  element.textContent = text;\n",
              "  for (const key of Object.keys(styleAttributes)) {\n",
              "    element.style[key] = styleAttributes[key];\n",
              "  }\n",
              "  return element;\n",
              "}\n",
              "\n",
              "// Max number of bytes which will be uploaded at a time.\n",
              "const MAX_PAYLOAD_SIZE = 100 * 1024;\n",
              "\n",
              "function _uploadFiles(inputId, outputId) {\n",
              "  const steps = uploadFilesStep(inputId, outputId);\n",
              "  const outputElement = document.getElementById(outputId);\n",
              "  // Cache steps on the outputElement to make it available for the next call\n",
              "  // to uploadFilesContinue from Python.\n",
              "  outputElement.steps = steps;\n",
              "\n",
              "  return _uploadFilesContinue(outputId);\n",
              "}\n",
              "\n",
              "// This is roughly an async generator (not supported in the browser yet),\n",
              "// where there are multiple asynchronous steps and the Python side is going\n",
              "// to poll for completion of each step.\n",
              "// This uses a Promise to block the python side on completion of each step,\n",
              "// then passes the result of the previous step as the input to the next step.\n",
              "function _uploadFilesContinue(outputId) {\n",
              "  const outputElement = document.getElementById(outputId);\n",
              "  const steps = outputElement.steps;\n",
              "\n",
              "  const next = steps.next(outputElement.lastPromiseValue);\n",
              "  return Promise.resolve(next.value.promise).then((value) => {\n",
              "    // Cache the last promise value to make it available to the next\n",
              "    // step of the generator.\n",
              "    outputElement.lastPromiseValue = value;\n",
              "    return next.value.response;\n",
              "  });\n",
              "}\n",
              "\n",
              "/**\n",
              " * Generator function which is called between each async step of the upload\n",
              " * process.\n",
              " * @param {string} inputId Element ID of the input file picker element.\n",
              " * @param {string} outputId Element ID of the output display.\n",
              " * @return {!Iterable<!Object>} Iterable of next steps.\n",
              " */\n",
              "function* uploadFilesStep(inputId, outputId) {\n",
              "  const inputElement = document.getElementById(inputId);\n",
              "  inputElement.disabled = false;\n",
              "\n",
              "  const outputElement = document.getElementById(outputId);\n",
              "  outputElement.innerHTML = '';\n",
              "\n",
              "  const pickedPromise = new Promise((resolve) => {\n",
              "    inputElement.addEventListener('change', (e) => {\n",
              "      resolve(e.target.files);\n",
              "    });\n",
              "  });\n",
              "\n",
              "  const cancel = document.createElement('button');\n",
              "  inputElement.parentElement.appendChild(cancel);\n",
              "  cancel.textContent = 'Cancel upload';\n",
              "  const cancelPromise = new Promise((resolve) => {\n",
              "    cancel.onclick = () => {\n",
              "      resolve(null);\n",
              "    };\n",
              "  });\n",
              "\n",
              "  // Wait for the user to pick the files.\n",
              "  const files = yield {\n",
              "    promise: Promise.race([pickedPromise, cancelPromise]),\n",
              "    response: {\n",
              "      action: 'starting',\n",
              "    }\n",
              "  };\n",
              "\n",
              "  cancel.remove();\n",
              "\n",
              "  // Disable the input element since further picks are not allowed.\n",
              "  inputElement.disabled = true;\n",
              "\n",
              "  if (!files) {\n",
              "    return {\n",
              "      response: {\n",
              "        action: 'complete',\n",
              "      }\n",
              "    };\n",
              "  }\n",
              "\n",
              "  for (const file of files) {\n",
              "    const li = document.createElement('li');\n",
              "    li.append(span(file.name, {fontWeight: 'bold'}));\n",
              "    li.append(span(\n",
              "        `(${file.type || 'n/a'}) - ${file.size} bytes, ` +\n",
              "        `last modified: ${\n",
              "            file.lastModifiedDate ? file.lastModifiedDate.toLocaleDateString() :\n",
              "                                    'n/a'} - `));\n",
              "    const percent = span('0% done');\n",
              "    li.appendChild(percent);\n",
              "\n",
              "    outputElement.appendChild(li);\n",
              "\n",
              "    const fileDataPromise = new Promise((resolve) => {\n",
              "      const reader = new FileReader();\n",
              "      reader.onload = (e) => {\n",
              "        resolve(e.target.result);\n",
              "      };\n",
              "      reader.readAsArrayBuffer(file);\n",
              "    });\n",
              "    // Wait for the data to be ready.\n",
              "    let fileData = yield {\n",
              "      promise: fileDataPromise,\n",
              "      response: {\n",
              "        action: 'continue',\n",
              "      }\n",
              "    };\n",
              "\n",
              "    // Use a chunked sending to avoid message size limits. See b/62115660.\n",
              "    let position = 0;\n",
              "    do {\n",
              "      const length = Math.min(fileData.byteLength - position, MAX_PAYLOAD_SIZE);\n",
              "      const chunk = new Uint8Array(fileData, position, length);\n",
              "      position += length;\n",
              "\n",
              "      const base64 = btoa(String.fromCharCode.apply(null, chunk));\n",
              "      yield {\n",
              "        response: {\n",
              "          action: 'append',\n",
              "          file: file.name,\n",
              "          data: base64,\n",
              "        },\n",
              "      };\n",
              "\n",
              "      let percentDone = fileData.byteLength === 0 ?\n",
              "          100 :\n",
              "          Math.round((position / fileData.byteLength) * 100);\n",
              "      percent.textContent = `${percentDone}% done`;\n",
              "\n",
              "    } while (position < fileData.byteLength);\n",
              "  }\n",
              "\n",
              "  // All done.\n",
              "  yield {\n",
              "    response: {\n",
              "      action: 'complete',\n",
              "    }\n",
              "  };\n",
              "}\n",
              "\n",
              "scope.google = scope.google || {};\n",
              "scope.google.colab = scope.google.colab || {};\n",
              "scope.google.colab._files = {\n",
              "  _uploadFiles,\n",
              "  _uploadFilesContinue,\n",
              "};\n",
              "})(self);\n",
              "</script> "
            ]
          },
          "metadata": {}
        },
        {
          "output_type": "stream",
          "name": "stdout",
          "text": [
            "Saving test2.csv to test2.csv\n",
            "correct shape: (1727, 6)\n",
            "incorrect shape: (946, 6)\n"
          ]
        }
      ]
    },
    {
      "cell_type": "code",
      "source": [
        "# Lable 1 for correct shot\n",
        "correct_shots[\"label\"] = 1\n",
        "print(\"correct shape:\", correct_shots.shape)\n",
        "# Lable zero for incorrect shot\n",
        "incorrect_shots[\"label\"] = 0\n",
        "print(\"incorrect shape:\", incorrect_shots.shape)\n",
        "\n",
        "\n",
        "# combine two datasets\n",
        "data = pd.concat([correct_shots, incorrect_shots], ignore_index=True)\n",
        "print(data.shape)\n",
        "\n",
        "# Pre Process Data\n",
        "def extract_features_and_labels(data):\n",
        "    features = data.drop(\"label\", axis=1)  # Delete column \"lable\"\n",
        "    labels = data[\"label\"]                # mark \"label\" as tag/lable\n",
        "    return features, labels\n",
        "\n",
        "# Devide data\n",
        "train_data, test_data = train_test_split(data, test_size=0.2, random_state=42)\n",
        "train_data, val_data = train_test_split(train_data, test_size=0.25, random_state=42)\n",
        "\n",
        "# Extract data and lable\n",
        "train_X, train_y = extract_features_and_labels(train_data)\n",
        "val_X, val_y = extract_features_and_labels(val_data)\n",
        "test_X, test_y = extract_features_and_labels(test_data)"
      ],
      "metadata": {
        "id": "dkCNiCXc0a4R",
        "colab": {
          "base_uri": "https://localhost:8080/"
        },
        "outputId": "e66526fd-56ff-4189-e1d9-8ce0b2fa15c4"
      },
      "execution_count": 7,
      "outputs": [
        {
          "output_type": "stream",
          "name": "stdout",
          "text": [
            "correct shape: (1727, 7)\n",
            "incorrect shape: (946, 7)\n",
            "(2673, 7)\n"
          ]
        }
      ]
    },
    {
      "cell_type": "code",
      "source": [
        "print(f\"train_X shape: {train_X.shape}\")\n",
        "print(f\"train_y shape: {train_y.shape}\")\n",
        "print(f\"val_X shape: {val_X.shape}\")\n",
        "print(f\"val_y shape: {val_y.shape}\")\n",
        "print(f\"test_X shape: {test_X.shape}\")\n",
        "print(f\"test_y shape: {test_y.shape}\")"
      ],
      "metadata": {
        "id": "B058iEY6AJ3t",
        "colab": {
          "base_uri": "https://localhost:8080/"
        },
        "outputId": "c794ce8a-3d3a-4f28-a927-26dfa310a724"
      },
      "execution_count": 8,
      "outputs": [
        {
          "output_type": "stream",
          "name": "stdout",
          "text": [
            "train_X shape: (1603, 6)\n",
            "train_y shape: (1603,)\n",
            "val_X shape: (535, 6)\n",
            "val_y shape: (535,)\n",
            "test_X shape: (535, 6)\n",
            "test_y shape: (535,)\n"
          ]
        }
      ]
    },
    {
      "cell_type": "markdown",
      "source": [],
      "metadata": {
        "id": "K6wnu1Pm-LD2"
      }
    },
    {
      "cell_type": "code",
      "source": [
        "train_X = train_X.values\n",
        "train_y = train_y.values\n",
        "val_X = val_X.values\n",
        "val_y = val_y.values\n",
        "test_X = test_X.values\n",
        "test_y = test_y.values"
      ],
      "metadata": {
        "id": "rpFTNx4VA9Dq"
      },
      "execution_count": 9,
      "outputs": []
    },
    {
      "cell_type": "code",
      "source": [
        "model = Sequential([\n",
        "    Dense(32, activation='relu', input_shape=(6,)),\n",
        "    Dropout(0.2),\n",
        "    Dense(16, activation='relu'),\n",
        "    Dropout(0.2),\n",
        "    Dense(1, activation='sigmoid')\n",
        "])\n",
        "\n",
        "model.compile(optimizer=Adam(learning_rate=0.001),\n",
        "              loss='binary_crossentropy',\n",
        "              metrics=['accuracy'])\n",
        "\n",
        "history = model.fit(train_X, train_y, epochs=100, batch_size=32, validation_data=(val_X, val_y))\n",
        "test_loss, test_accuracy = model.evaluate(test_X, test_y)\n",
        "print(f\"Test loss: {test_loss}, Test accuracy: {test_accuracy}\")"
      ],
      "metadata": {
        "colab": {
          "base_uri": "https://localhost:8080/"
        },
        "id": "DBjdC-Sc7p4e",
        "outputId": "1b099b08-9ec6-4eea-f8a0-361e8554a68e"
      },
      "execution_count": 12,
      "outputs": [
        {
          "output_type": "stream",
          "name": "stdout",
          "text": [
            "Epoch 1/100\n",
            "51/51 [==============================] - 2s 8ms/step - loss: 7.0686 - accuracy: 0.5596 - val_loss: 2.0554 - val_accuracy: 0.6579\n",
            "Epoch 2/100\n",
            "51/51 [==============================] - 0s 5ms/step - loss: 4.2411 - accuracy: 0.6407 - val_loss: 1.5136 - val_accuracy: 0.7196\n",
            "Epoch 3/100\n",
            "51/51 [==============================] - 0s 5ms/step - loss: 3.2404 - accuracy: 0.6606 - val_loss: 1.3219 - val_accuracy: 0.7271\n",
            "Epoch 4/100\n",
            "51/51 [==============================] - 0s 5ms/step - loss: 2.4859 - accuracy: 0.6588 - val_loss: 1.0466 - val_accuracy: 0.7196\n",
            "Epoch 5/100\n",
            "51/51 [==============================] - 0s 5ms/step - loss: 1.9686 - accuracy: 0.6457 - val_loss: 0.8467 - val_accuracy: 0.7047\n",
            "Epoch 6/100\n",
            "51/51 [==============================] - 0s 5ms/step - loss: 1.6373 - accuracy: 0.6588 - val_loss: 0.7018 - val_accuracy: 0.7196\n",
            "Epoch 7/100\n",
            "51/51 [==============================] - 0s 5ms/step - loss: 1.3061 - accuracy: 0.6937 - val_loss: 0.5887 - val_accuracy: 0.7252\n",
            "Epoch 8/100\n",
            "51/51 [==============================] - 0s 5ms/step - loss: 1.0964 - accuracy: 0.6837 - val_loss: 0.5605 - val_accuracy: 0.7364\n",
            "Epoch 9/100\n",
            "51/51 [==============================] - 0s 5ms/step - loss: 0.9550 - accuracy: 0.6862 - val_loss: 0.5419 - val_accuracy: 0.7439\n",
            "Epoch 10/100\n",
            "51/51 [==============================] - 0s 5ms/step - loss: 0.9462 - accuracy: 0.6856 - val_loss: 0.5209 - val_accuracy: 0.7196\n",
            "Epoch 11/100\n",
            "51/51 [==============================] - 0s 5ms/step - loss: 0.7697 - accuracy: 0.7099 - val_loss: 0.5084 - val_accuracy: 0.7234\n",
            "Epoch 12/100\n",
            "51/51 [==============================] - 0s 5ms/step - loss: 0.7373 - accuracy: 0.6850 - val_loss: 0.5048 - val_accuracy: 0.7308\n",
            "Epoch 13/100\n",
            "51/51 [==============================] - 0s 5ms/step - loss: 0.6755 - accuracy: 0.7074 - val_loss: 0.5015 - val_accuracy: 0.7421\n",
            "Epoch 14/100\n",
            "51/51 [==============================] - 0s 5ms/step - loss: 0.6379 - accuracy: 0.7193 - val_loss: 0.4955 - val_accuracy: 0.7402\n",
            "Epoch 15/100\n",
            "51/51 [==============================] - 0s 5ms/step - loss: 0.6423 - accuracy: 0.7149 - val_loss: 0.4953 - val_accuracy: 0.7196\n",
            "Epoch 16/100\n",
            "51/51 [==============================] - 0s 5ms/step - loss: 0.5911 - accuracy: 0.7199 - val_loss: 0.4953 - val_accuracy: 0.7645\n",
            "Epoch 17/100\n",
            "51/51 [==============================] - 0s 5ms/step - loss: 0.5941 - accuracy: 0.7218 - val_loss: 0.5009 - val_accuracy: 0.7514\n",
            "Epoch 18/100\n",
            "51/51 [==============================] - 0s 5ms/step - loss: 0.5818 - accuracy: 0.7367 - val_loss: 0.5034 - val_accuracy: 0.7252\n",
            "Epoch 19/100\n",
            "51/51 [==============================] - 0s 5ms/step - loss: 0.5888 - accuracy: 0.7130 - val_loss: 0.5039 - val_accuracy: 0.7308\n",
            "Epoch 20/100\n",
            "51/51 [==============================] - 0s 6ms/step - loss: 0.5576 - accuracy: 0.7168 - val_loss: 0.5025 - val_accuracy: 0.7290\n",
            "Epoch 21/100\n",
            "51/51 [==============================] - 0s 5ms/step - loss: 0.5615 - accuracy: 0.7367 - val_loss: 0.5030 - val_accuracy: 0.7495\n",
            "Epoch 22/100\n",
            "51/51 [==============================] - 0s 5ms/step - loss: 0.5728 - accuracy: 0.7324 - val_loss: 0.4897 - val_accuracy: 0.7626\n",
            "Epoch 23/100\n",
            "51/51 [==============================] - 0s 5ms/step - loss: 0.5404 - accuracy: 0.7411 - val_loss: 0.4890 - val_accuracy: 0.7813\n",
            "Epoch 24/100\n",
            "51/51 [==============================] - 0s 5ms/step - loss: 0.5721 - accuracy: 0.7386 - val_loss: 0.4854 - val_accuracy: 0.7776\n",
            "Epoch 25/100\n",
            "51/51 [==============================] - 0s 5ms/step - loss: 0.5192 - accuracy: 0.7604 - val_loss: 0.4844 - val_accuracy: 0.7888\n",
            "Epoch 26/100\n",
            "51/51 [==============================] - 0s 5ms/step - loss: 0.5152 - accuracy: 0.7548 - val_loss: 0.4836 - val_accuracy: 0.7850\n",
            "Epoch 27/100\n",
            "51/51 [==============================] - 0s 6ms/step - loss: 0.5241 - accuracy: 0.7580 - val_loss: 0.4837 - val_accuracy: 0.7888\n",
            "Epoch 28/100\n",
            "51/51 [==============================] - 0s 7ms/step - loss: 0.5217 - accuracy: 0.7604 - val_loss: 0.4766 - val_accuracy: 0.7907\n",
            "Epoch 29/100\n",
            "51/51 [==============================] - 0s 7ms/step - loss: 0.5367 - accuracy: 0.7586 - val_loss: 0.4844 - val_accuracy: 0.7776\n",
            "Epoch 30/100\n",
            "51/51 [==============================] - 0s 7ms/step - loss: 0.5253 - accuracy: 0.7399 - val_loss: 0.4876 - val_accuracy: 0.7757\n",
            "Epoch 31/100\n",
            "51/51 [==============================] - 0s 7ms/step - loss: 0.5269 - accuracy: 0.7498 - val_loss: 0.4835 - val_accuracy: 0.7869\n",
            "Epoch 32/100\n",
            "51/51 [==============================] - 0s 7ms/step - loss: 0.5044 - accuracy: 0.7592 - val_loss: 0.4830 - val_accuracy: 0.7869\n",
            "Epoch 33/100\n",
            "51/51 [==============================] - 0s 7ms/step - loss: 0.5130 - accuracy: 0.7511 - val_loss: 0.4738 - val_accuracy: 0.7832\n",
            "Epoch 34/100\n",
            "51/51 [==============================] - 0s 6ms/step - loss: 0.5094 - accuracy: 0.7592 - val_loss: 0.4736 - val_accuracy: 0.7925\n",
            "Epoch 35/100\n",
            "51/51 [==============================] - 0s 5ms/step - loss: 0.5038 - accuracy: 0.7573 - val_loss: 0.4719 - val_accuracy: 0.7963\n",
            "Epoch 36/100\n",
            "51/51 [==============================] - 0s 5ms/step - loss: 0.5091 - accuracy: 0.7592 - val_loss: 0.4712 - val_accuracy: 0.7869\n",
            "Epoch 37/100\n",
            "51/51 [==============================] - 0s 5ms/step - loss: 0.5314 - accuracy: 0.7473 - val_loss: 0.4699 - val_accuracy: 0.8075\n",
            "Epoch 38/100\n",
            "51/51 [==============================] - 0s 5ms/step - loss: 0.5089 - accuracy: 0.7629 - val_loss: 0.4624 - val_accuracy: 0.8000\n",
            "Epoch 39/100\n",
            "51/51 [==============================] - 0s 5ms/step - loss: 0.5086 - accuracy: 0.7648 - val_loss: 0.4672 - val_accuracy: 0.7963\n",
            "Epoch 40/100\n",
            "51/51 [==============================] - 0s 5ms/step - loss: 0.4923 - accuracy: 0.7760 - val_loss: 0.4604 - val_accuracy: 0.8112\n",
            "Epoch 41/100\n",
            "51/51 [==============================] - 0s 5ms/step - loss: 0.4976 - accuracy: 0.7742 - val_loss: 0.4641 - val_accuracy: 0.8000\n",
            "Epoch 42/100\n",
            "51/51 [==============================] - 0s 5ms/step - loss: 0.4972 - accuracy: 0.7654 - val_loss: 0.4642 - val_accuracy: 0.7907\n",
            "Epoch 43/100\n",
            "51/51 [==============================] - 0s 5ms/step - loss: 0.5059 - accuracy: 0.7511 - val_loss: 0.4640 - val_accuracy: 0.8037\n",
            "Epoch 44/100\n",
            "51/51 [==============================] - 0s 4ms/step - loss: 0.5019 - accuracy: 0.7679 - val_loss: 0.4647 - val_accuracy: 0.8037\n",
            "Epoch 45/100\n",
            "51/51 [==============================] - 0s 5ms/step - loss: 0.5003 - accuracy: 0.7760 - val_loss: 0.4602 - val_accuracy: 0.8093\n",
            "Epoch 46/100\n",
            "51/51 [==============================] - 0s 5ms/step - loss: 0.4907 - accuracy: 0.7717 - val_loss: 0.4616 - val_accuracy: 0.8168\n",
            "Epoch 47/100\n",
            "51/51 [==============================] - 0s 5ms/step - loss: 0.4785 - accuracy: 0.7773 - val_loss: 0.4621 - val_accuracy: 0.8168\n",
            "Epoch 48/100\n",
            "51/51 [==============================] - 0s 5ms/step - loss: 0.4916 - accuracy: 0.7711 - val_loss: 0.4597 - val_accuracy: 0.8224\n",
            "Epoch 49/100\n",
            "51/51 [==============================] - 0s 6ms/step - loss: 0.4772 - accuracy: 0.7817 - val_loss: 0.4578 - val_accuracy: 0.8112\n",
            "Epoch 50/100\n",
            "51/51 [==============================] - 0s 5ms/step - loss: 0.4820 - accuracy: 0.7642 - val_loss: 0.4535 - val_accuracy: 0.8187\n",
            "Epoch 51/100\n",
            "51/51 [==============================] - 0s 5ms/step - loss: 0.4847 - accuracy: 0.7829 - val_loss: 0.4533 - val_accuracy: 0.8168\n",
            "Epoch 52/100\n",
            "51/51 [==============================] - 0s 5ms/step - loss: 0.4715 - accuracy: 0.7891 - val_loss: 0.4538 - val_accuracy: 0.8187\n",
            "Epoch 53/100\n",
            "51/51 [==============================] - 0s 5ms/step - loss: 0.4937 - accuracy: 0.7723 - val_loss: 0.4507 - val_accuracy: 0.8168\n",
            "Epoch 54/100\n",
            "51/51 [==============================] - 0s 5ms/step - loss: 0.4704 - accuracy: 0.7916 - val_loss: 0.4454 - val_accuracy: 0.8168\n",
            "Epoch 55/100\n",
            "51/51 [==============================] - 0s 5ms/step - loss: 0.4840 - accuracy: 0.7767 - val_loss: 0.4494 - val_accuracy: 0.8093\n",
            "Epoch 56/100\n",
            "51/51 [==============================] - 0s 5ms/step - loss: 0.4776 - accuracy: 0.7748 - val_loss: 0.4483 - val_accuracy: 0.8224\n",
            "Epoch 57/100\n",
            "51/51 [==============================] - 0s 5ms/step - loss: 0.4568 - accuracy: 0.7823 - val_loss: 0.4441 - val_accuracy: 0.7981\n",
            "Epoch 58/100\n",
            "51/51 [==============================] - 0s 4ms/step - loss: 0.4613 - accuracy: 0.7898 - val_loss: 0.4410 - val_accuracy: 0.8168\n",
            "Epoch 59/100\n",
            "51/51 [==============================] - 0s 5ms/step - loss: 0.4821 - accuracy: 0.7823 - val_loss: 0.4374 - val_accuracy: 0.8168\n",
            "Epoch 60/100\n",
            "51/51 [==============================] - 0s 5ms/step - loss: 0.4723 - accuracy: 0.7810 - val_loss: 0.4339 - val_accuracy: 0.8224\n",
            "Epoch 61/100\n",
            "51/51 [==============================] - 0s 5ms/step - loss: 0.4745 - accuracy: 0.7910 - val_loss: 0.4371 - val_accuracy: 0.8131\n",
            "Epoch 62/100\n",
            "51/51 [==============================] - 0s 5ms/step - loss: 0.4664 - accuracy: 0.7973 - val_loss: 0.4300 - val_accuracy: 0.8299\n",
            "Epoch 63/100\n",
            "51/51 [==============================] - 0s 5ms/step - loss: 0.4627 - accuracy: 0.7923 - val_loss: 0.4278 - val_accuracy: 0.8243\n",
            "Epoch 64/100\n",
            "51/51 [==============================] - 0s 5ms/step - loss: 0.4810 - accuracy: 0.7910 - val_loss: 0.4304 - val_accuracy: 0.8243\n",
            "Epoch 65/100\n",
            "51/51 [==============================] - 0s 5ms/step - loss: 0.4634 - accuracy: 0.7935 - val_loss: 0.4244 - val_accuracy: 0.8262\n",
            "Epoch 66/100\n",
            "51/51 [==============================] - 0s 5ms/step - loss: 0.4551 - accuracy: 0.7991 - val_loss: 0.4206 - val_accuracy: 0.8206\n",
            "Epoch 67/100\n",
            "51/51 [==============================] - 0s 4ms/step - loss: 0.4652 - accuracy: 0.8047 - val_loss: 0.4174 - val_accuracy: 0.8262\n",
            "Epoch 68/100\n",
            "51/51 [==============================] - 0s 5ms/step - loss: 0.4542 - accuracy: 0.7979 - val_loss: 0.4159 - val_accuracy: 0.8336\n",
            "Epoch 69/100\n",
            "51/51 [==============================] - 0s 5ms/step - loss: 0.4567 - accuracy: 0.7948 - val_loss: 0.4100 - val_accuracy: 0.8430\n",
            "Epoch 70/100\n",
            "51/51 [==============================] - 0s 5ms/step - loss: 0.4428 - accuracy: 0.8047 - val_loss: 0.4094 - val_accuracy: 0.8393\n",
            "Epoch 71/100\n",
            "51/51 [==============================] - 0s 6ms/step - loss: 0.4447 - accuracy: 0.8066 - val_loss: 0.4088 - val_accuracy: 0.8393\n",
            "Epoch 72/100\n",
            "51/51 [==============================] - 0s 5ms/step - loss: 0.4558 - accuracy: 0.7979 - val_loss: 0.4024 - val_accuracy: 0.8393\n",
            "Epoch 73/100\n",
            "51/51 [==============================] - 0s 7ms/step - loss: 0.4483 - accuracy: 0.8147 - val_loss: 0.3971 - val_accuracy: 0.8467\n",
            "Epoch 74/100\n",
            "51/51 [==============================] - 0s 7ms/step - loss: 0.4507 - accuracy: 0.8066 - val_loss: 0.3931 - val_accuracy: 0.8430\n",
            "Epoch 75/100\n",
            "51/51 [==============================] - 0s 7ms/step - loss: 0.4466 - accuracy: 0.8079 - val_loss: 0.3893 - val_accuracy: 0.8467\n",
            "Epoch 76/100\n",
            "51/51 [==============================] - 0s 7ms/step - loss: 0.4269 - accuracy: 0.8116 - val_loss: 0.3900 - val_accuracy: 0.8430\n",
            "Epoch 77/100\n",
            "51/51 [==============================] - 0s 7ms/step - loss: 0.4282 - accuracy: 0.8303 - val_loss: 0.3832 - val_accuracy: 0.8486\n",
            "Epoch 78/100\n",
            "51/51 [==============================] - 0s 7ms/step - loss: 0.4255 - accuracy: 0.8235 - val_loss: 0.3745 - val_accuracy: 0.8598\n",
            "Epoch 79/100\n",
            "51/51 [==============================] - 0s 7ms/step - loss: 0.4079 - accuracy: 0.8191 - val_loss: 0.3662 - val_accuracy: 0.8654\n",
            "Epoch 80/100\n",
            "51/51 [==============================] - 0s 5ms/step - loss: 0.4153 - accuracy: 0.8309 - val_loss: 0.3635 - val_accuracy: 0.8636\n",
            "Epoch 81/100\n",
            "51/51 [==============================] - 0s 5ms/step - loss: 0.4034 - accuracy: 0.8222 - val_loss: 0.3600 - val_accuracy: 0.8598\n",
            "Epoch 82/100\n",
            "51/51 [==============================] - 0s 5ms/step - loss: 0.4200 - accuracy: 0.8210 - val_loss: 0.3490 - val_accuracy: 0.8748\n",
            "Epoch 83/100\n",
            "51/51 [==============================] - 0s 5ms/step - loss: 0.3911 - accuracy: 0.8341 - val_loss: 0.3437 - val_accuracy: 0.8766\n",
            "Epoch 84/100\n",
            "51/51 [==============================] - 0s 5ms/step - loss: 0.3807 - accuracy: 0.8328 - val_loss: 0.3422 - val_accuracy: 0.8785\n",
            "Epoch 85/100\n",
            "51/51 [==============================] - 0s 5ms/step - loss: 0.3918 - accuracy: 0.8347 - val_loss: 0.3337 - val_accuracy: 0.8766\n",
            "Epoch 86/100\n",
            "51/51 [==============================] - 0s 5ms/step - loss: 0.3874 - accuracy: 0.8291 - val_loss: 0.3245 - val_accuracy: 0.8879\n",
            "Epoch 87/100\n",
            "51/51 [==============================] - 0s 5ms/step - loss: 0.3789 - accuracy: 0.8372 - val_loss: 0.3160 - val_accuracy: 0.8897\n",
            "Epoch 88/100\n",
            "51/51 [==============================] - 0s 5ms/step - loss: 0.3783 - accuracy: 0.8422 - val_loss: 0.3149 - val_accuracy: 0.8841\n",
            "Epoch 89/100\n",
            "51/51 [==============================] - 0s 5ms/step - loss: 0.3611 - accuracy: 0.8459 - val_loss: 0.3089 - val_accuracy: 0.8879\n",
            "Epoch 90/100\n",
            "51/51 [==============================] - 0s 5ms/step - loss: 0.3748 - accuracy: 0.8347 - val_loss: 0.3057 - val_accuracy: 0.8860\n",
            "Epoch 91/100\n",
            "51/51 [==============================] - 0s 5ms/step - loss: 0.3687 - accuracy: 0.8353 - val_loss: 0.2949 - val_accuracy: 0.8972\n",
            "Epoch 92/100\n",
            "51/51 [==============================] - 0s 6ms/step - loss: 0.3525 - accuracy: 0.8528 - val_loss: 0.2970 - val_accuracy: 0.8935\n",
            "Epoch 93/100\n",
            "51/51 [==============================] - 0s 5ms/step - loss: 0.3618 - accuracy: 0.8571 - val_loss: 0.2892 - val_accuracy: 0.9028\n",
            "Epoch 94/100\n",
            "51/51 [==============================] - 0s 5ms/step - loss: 0.3515 - accuracy: 0.8453 - val_loss: 0.2838 - val_accuracy: 0.8991\n",
            "Epoch 95/100\n",
            "51/51 [==============================] - 0s 4ms/step - loss: 0.3514 - accuracy: 0.8472 - val_loss: 0.2765 - val_accuracy: 0.9047\n",
            "Epoch 96/100\n",
            "51/51 [==============================] - 0s 5ms/step - loss: 0.3472 - accuracy: 0.8497 - val_loss: 0.2720 - val_accuracy: 0.8991\n",
            "Epoch 97/100\n",
            "51/51 [==============================] - 0s 5ms/step - loss: 0.3389 - accuracy: 0.8503 - val_loss: 0.2781 - val_accuracy: 0.9084\n",
            "Epoch 98/100\n",
            "51/51 [==============================] - 0s 5ms/step - loss: 0.3463 - accuracy: 0.8509 - val_loss: 0.2640 - val_accuracy: 0.9121\n",
            "Epoch 99/100\n",
            "51/51 [==============================] - 0s 5ms/step - loss: 0.3344 - accuracy: 0.8546 - val_loss: 0.2601 - val_accuracy: 0.9234\n",
            "Epoch 100/100\n",
            "51/51 [==============================] - 0s 5ms/step - loss: 0.3273 - accuracy: 0.8565 - val_loss: 0.2667 - val_accuracy: 0.9140\n",
            "17/17 [==============================] - 0s 3ms/step - loss: 0.2799 - accuracy: 0.8822\n",
            "Test loss: 0.2799239456653595, Test accuracy: 0.8822429776191711\n"
          ]
        }
      ]
    },
    {
      "cell_type": "markdown",
      "source": [
        "Test"
      ],
      "metadata": {
        "id": "Pfg_ReiUkQt8"
      }
    },
    {
      "cell_type": "code",
      "source": [
        "test_loss, test_accuracy = model.evaluate(test_X, test_y)\n",
        "print(f\"Test loss: {test_loss}, Test accuracy: {test_accuracy}\")"
      ],
      "metadata": {
        "colab": {
          "base_uri": "https://localhost:8080/"
        },
        "id": "sWIPzIJ3kQas",
        "outputId": "26f2188e-4274-468d-b46d-4ab89c1dd1b5"
      },
      "execution_count": 13,
      "outputs": [
        {
          "output_type": "stream",
          "name": "stdout",
          "text": [
            "17/17 [==============================] - 0s 4ms/step - loss: 0.2799 - accuracy: 0.8822\n",
            "Test loss: 0.2799239456653595, Test accuracy: 0.8822429776191711\n"
          ]
        }
      ]
    },
    {
      "cell_type": "code",
      "source": [
        "converter = tf.lite.TFLiteConverter.from_keras_model(model)\n",
        "tflite_model = converter.convert()\n",
        "\n",
        "# Save the model to disk\n",
        "open(\"gesture_model.tflite\", \"wb\").write(tflite_model)\n",
        "  \n",
        "import os\n",
        "basic_model_size = os.path.getsize(\"gesture_model.tflite\")\n",
        "print(\"Model is %d bytes\" % basic_model_size)"
      ],
      "metadata": {
        "colab": {
          "base_uri": "https://localhost:8080/"
        },
        "id": "n_PY3ecimDrv",
        "outputId": "8190e3f4-d846-40ed-e82a-b9e7c41b06af"
      },
      "execution_count": 14,
      "outputs": [
        {
          "output_type": "stream",
          "name": "stdout",
          "text": [
            "Model is 5168 bytes\n"
          ]
        }
      ]
    },
    {
      "cell_type": "code",
      "source": [
        "!echo \"const unsigned char model[] = {\" > /content/model.h\n",
        "!cat gesture_model.tflite | xxd -i      >> /content/model.h\n",
        "!echo \"};\"                              >> /content/model.h\n",
        "\n",
        "import os\n",
        "model_h_size = os.path.getsize(\"model.h\")\n",
        "print(f\"Header file, model.h, is {model_h_size:,} bytes.\")\n",
        "# print(\"\\nOpen the side panel (refresh if needed). Double click model.h to download the file.\")"
      ],
      "metadata": {
        "colab": {
          "base_uri": "https://localhost:8080/"
        },
        "id": "0NeWtFiastgi",
        "outputId": "8e569fd7-c196-46fe-9b0d-e7f37646b468"
      },
      "execution_count": 15,
      "outputs": [
        {
          "output_type": "stream",
          "name": "stdout",
          "text": [
            "Header file, model.h, is 31,904 bytes.\n"
          ]
        }
      ]
    },
    {
      "cell_type": "code",
      "source": [
        "files.download('model.h')\n",
        "print('model.h Downloaded')"
      ],
      "metadata": {
        "colab": {
          "base_uri": "https://localhost:8080/",
          "height": 35
        },
        "id": "nD9Cg3M7suPJ",
        "outputId": "0e9ff6c2-882c-4464-fff8-8addef4aebdb"
      },
      "execution_count": 16,
      "outputs": [
        {
          "output_type": "display_data",
          "data": {
            "text/plain": [
              "<IPython.core.display.Javascript object>"
            ],
            "application/javascript": [
              "\n",
              "    async function download(id, filename, size) {\n",
              "      if (!google.colab.kernel.accessAllowed) {\n",
              "        return;\n",
              "      }\n",
              "      const div = document.createElement('div');\n",
              "      const label = document.createElement('label');\n",
              "      label.textContent = `Downloading \"${filename}\": `;\n",
              "      div.appendChild(label);\n",
              "      const progress = document.createElement('progress');\n",
              "      progress.max = size;\n",
              "      div.appendChild(progress);\n",
              "      document.body.appendChild(div);\n",
              "\n",
              "      const buffers = [];\n",
              "      let downloaded = 0;\n",
              "\n",
              "      const channel = await google.colab.kernel.comms.open(id);\n",
              "      // Send a message to notify the kernel that we're ready.\n",
              "      channel.send({})\n",
              "\n",
              "      for await (const message of channel.messages) {\n",
              "        // Send a message to notify the kernel that we're ready.\n",
              "        channel.send({})\n",
              "        if (message.buffers) {\n",
              "          for (const buffer of message.buffers) {\n",
              "            buffers.push(buffer);\n",
              "            downloaded += buffer.byteLength;\n",
              "            progress.value = downloaded;\n",
              "          }\n",
              "        }\n",
              "      }\n",
              "      const blob = new Blob(buffers, {type: 'application/binary'});\n",
              "      const a = document.createElement('a');\n",
              "      a.href = window.URL.createObjectURL(blob);\n",
              "      a.download = filename;\n",
              "      div.appendChild(a);\n",
              "      a.click();\n",
              "      div.remove();\n",
              "    }\n",
              "  "
            ]
          },
          "metadata": {}
        },
        {
          "output_type": "display_data",
          "data": {
            "text/plain": [
              "<IPython.core.display.Javascript object>"
            ],
            "application/javascript": [
              "download(\"download_291636d5-fae0-49a0-aa03-9fc09a7097f5\", \"model.h\", 31904)"
            ]
          },
          "metadata": {}
        },
        {
          "output_type": "stream",
          "name": "stdout",
          "text": [
            "model.h Downloaded\n"
          ]
        }
      ]
    }
  ]
}